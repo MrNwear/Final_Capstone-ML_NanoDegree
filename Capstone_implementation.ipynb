{
 "cells": [
  {
   "cell_type": "markdown",
   "metadata": {},
   "source": [
    "# Spam Detection Project\n",
    "## Machine learning nano-degree Capstone project\n",
    "### Yosef Hesham Nwear"
   ]
  },
  {
   "cell_type": "markdown",
   "metadata": {},
   "source": [
    "## 1- Import libraries load the data"
   ]
  },
  {
   "cell_type": "code",
   "execution_count": 5,
   "metadata": {},
   "outputs": [],
   "source": [
    "import pandas as pd\n",
    "import numpy as np \n",
    "import matplotlib.pyplot as plt \n",
    "from collections import Counter\n",
    "\n",
    "%matplotlib inline \n",
    "\n",
    "# load data set for csv file \n",
    "data=pd.read_csv('SMSSpamCollection.csv',encoding='latin-1',usecols=[0,1])"
   ]
  },
  {
   "cell_type": "code",
   "execution_count": 6,
   "metadata": {},
   "outputs": [
    {
     "name": "stdout",
     "output_type": "stream",
     "text": [
      "     v1                                                 v2\n",
      "0   ham  Go until jurong point, crazy.. Available only ...\n",
      "1   ham                      Ok lar... Joking wif u oni...\n",
      "2  spam  Free entry in 2 a wkly comp to win FA Cup fina...\n",
      "3   ham  U dun say so early hor... U c already then say...\n",
      "4   ham  Nah I don't think he goes to usf, he lives aro... \n",
      "\n",
      "<class 'pandas.core.frame.DataFrame'>\n",
      "RangeIndex: 5572 entries, 0 to 5571\n",
      "Data columns (total 2 columns):\n",
      "v1    5572 non-null object\n",
      "v2    5572 non-null object\n",
      "dtypes: object(2)\n",
      "memory usage: 87.2+ KB\n",
      "None \n",
      "\n",
      "          v1                      v2\n",
      "count   5572                    5572\n",
      "unique     2                    5169\n",
      "top      ham  Sorry, I'll call later\n",
      "freq    4825                      30\n"
     ]
    }
   ],
   "source": [
    "print(data.head(),'\\n')\n",
    "print(data.info(),'\\n')\n",
    "print(data.describe())"
   ]
  },
  {
   "cell_type": "code",
   "execution_count": 7,
   "metadata": {},
   "outputs": [
    {
     "data": {
      "text/html": [
       "<div>\n",
       "<style scoped>\n",
       "    .dataframe tbody tr th:only-of-type {\n",
       "        vertical-align: middle;\n",
       "    }\n",
       "\n",
       "    .dataframe tbody tr th {\n",
       "        vertical-align: top;\n",
       "    }\n",
       "\n",
       "    .dataframe thead tr th {\n",
       "        text-align: left;\n",
       "    }\n",
       "\n",
       "    .dataframe thead tr:last-of-type th {\n",
       "        text-align: right;\n",
       "    }\n",
       "</style>\n",
       "<table border=\"1\" class=\"dataframe\">\n",
       "  <thead>\n",
       "    <tr>\n",
       "      <th></th>\n",
       "      <th colspan=\"4\" halign=\"left\">v2</th>\n",
       "    </tr>\n",
       "    <tr>\n",
       "      <th></th>\n",
       "      <th>count</th>\n",
       "      <th>unique</th>\n",
       "      <th>top</th>\n",
       "      <th>freq</th>\n",
       "    </tr>\n",
       "    <tr>\n",
       "      <th>v1</th>\n",
       "      <th></th>\n",
       "      <th></th>\n",
       "      <th></th>\n",
       "      <th></th>\n",
       "    </tr>\n",
       "  </thead>\n",
       "  <tbody>\n",
       "    <tr>\n",
       "      <td>ham</td>\n",
       "      <td>4825</td>\n",
       "      <td>4516</td>\n",
       "      <td>Sorry, I'll call later</td>\n",
       "      <td>30</td>\n",
       "    </tr>\n",
       "    <tr>\n",
       "      <td>spam</td>\n",
       "      <td>747</td>\n",
       "      <td>653</td>\n",
       "      <td>Please call our customer service representativ...</td>\n",
       "      <td>4</td>\n",
       "    </tr>\n",
       "  </tbody>\n",
       "</table>\n",
       "</div>"
      ],
      "text/plain": [
       "        v2                                                               \n",
       "     count unique                                                top freq\n",
       "v1                                                                       \n",
       "ham   4825   4516                             Sorry, I'll call later   30\n",
       "spam   747    653  Please call our customer service representativ...    4"
      ]
     },
     "execution_count": 7,
     "metadata": {},
     "output_type": "execute_result"
    }
   ],
   "source": [
    "data.groupby('v1').describe()"
   ]
  },
  {
   "cell_type": "code",
   "execution_count": 8,
   "metadata": {},
   "outputs": [
    {
     "data": {
      "image/png": "[encoded data removed]",
      "text/plain": [
       "<Figure size 432x288 with 1 Axes>"
      ]
     },
     "metadata": {
      "needs_background": "light"
     },
     "output_type": "display_data"
    }
   ],
   "source": [
    "# Visualization of the most freq words in the dataset \n",
    "cunt1=Counter(\" \".join(data['v2']).split()).most_common(30)\n",
    "df1 =pd.DataFrame.from_dict(cunt1)\n",
    "df1=df1.rename(columns={0:'word',1:'count'})\n",
    "fig=plt.figure()\n",
    "ax=fig.add_subplot()\n",
    "df1.plot.bar(ax=ax,legend=False)\n",
    "xticks = np.arange(len(df1['word']))\n",
    "ax.set_xticks(xticks)\n",
    "ax.set_xticklabels(df1['word'])\n",
    "ax.set_ylabel('Frequency : Number of occurence')\n",
    "plt.show()"
   ]
  },
  {
   "cell_type": "code",
   "execution_count": 9,
   "metadata": {},
   "outputs": [
    {
     "name": "stdout",
     "output_type": "stream",
     "text": [
      "     v1                                                 v2  Count\n",
      "0   ham  Go until jurong point, crazy.. Available only ...    111\n",
      "1   ham                      Ok lar... Joking wif u oni...     29\n",
      "2  spam  Free entry in 2 a wkly comp to win FA Cup fina...    155\n",
      "3   ham  U dun say so early hor... U c already then say...     49\n",
      "4   ham  Nah I don't think he goes to usf, he lives aro...     61 \n",
      "\n",
      "Unique values in the Class set:  ['ham' 'spam']\n"
     ]
    }
   ],
   "source": [
    "# Count the number of words in each Text\n",
    "data['Count']=0\n",
    "for i in np.arange(0,len(data.v2)):\n",
    "    data.loc[i,'Count'] = len(data.loc[i,'v2'])\n",
    "\n",
    "print(data.head(),'\\n')\n",
    "\n",
    "# Unique values in target set\n",
    "print (\"Unique values in the Class set: \", data['v1'].unique())"
   ]
  },
  {
   "cell_type": "code",
   "execution_count": 10,
   "metadata": {},
   "outputs": [],
   "source": [
    "data=data.replace(['ham','spam'],[0,1])"
   ]
  },
  {
   "cell_type": "code",
   "execution_count": 11,
   "metadata": {},
   "outputs": [
    {
     "name": "stdout",
     "output_type": "stream",
     "text": [
      "Number of ham messages in data set : 4825 \n",
      "\n",
      "Ham Count value : 272 \n",
      "\n",
      "   v1                                                 v2  Count\n",
      "0   0  Go until jurong point, crazy.. Available only ...    111\n",
      "1   0                      Ok lar... Joking wif u oni...     29\n",
      "3   0  U dun say so early hor... U c already then say...     49\n",
      "4   0  Nah I don't think he goes to usf, he lives aro...     61\n",
      "6   0  Even my brother is not like to speak with me. ...     77\n"
     ]
    }
   ],
   "source": [
    "# Collecting ham messages \n",
    "ham=data[data.v1==0]\n",
    "ham_count  = pd.DataFrame(pd.value_counts(ham['Count'],sort=True).sort_index())\n",
    "print (\"Number of ham messages in data set :\", ham['v1'].count(),'\\n')\n",
    "print (\"Ham Count value :\", ham_count['Count'].count(),'\\n')\n",
    "print(ham.head())"
   ]
  },
  {
   "cell_type": "code",
   "execution_count": 12,
   "metadata": {},
   "outputs": [
    {
     "name": "stdout",
     "output_type": "stream",
     "text": [
      "Number of spam messages in data set : 747 \n",
      "\n",
      "Spam count value : 122 \n",
      "\n",
      "    v1                                                 v2  Count\n",
      "2    1  Free entry in 2 a wkly comp to win FA Cup fina...    155\n",
      "5    1  FreeMsg Hey there darling it's been 3 week's n...    148\n",
      "8    1  WINNER!! As a valued network customer you have...    158\n",
      "9    1  Had your mobile 11 months or more? U R entitle...    154\n",
      "11   1  SIX chances to win CASH! From 100 to 20,000 po...    136\n"
     ]
    }
   ],
   "source": [
    "# Collecting spam messages\n",
    "spam=data[data.v1 == 1]\n",
    "spam_count=pd.DataFrame(pd.value_counts(spam['Count'],sort=True).sort_index())\n",
    "print(\"Number of spam messages in data set :\" ,spam['v1'].count(),'\\n')\n",
    "print(\"Spam count value :\",spam_count['Count'].count(),'\\n')\n",
    "print(spam.head())"
   ]
  },
  {
   "cell_type": "code",
   "execution_count": null,
   "metadata": {},
   "outputs": [],
   "source": []
  },
  {
   "cell_type": "markdown",
   "metadata": {},
   "source": [
    "## 2- Preprocess the data"
   ]
  },
  {
   "cell_type": "code",
   "execution_count": 13,
   "metadata": {},
   "outputs": [
    {
     "name": "stdout",
     "output_type": "stream",
     "text": [
      "[0 0 1 0 0 1 0 0 1 1]\n"
     ]
    }
   ],
   "source": [
    "from sklearn.preprocessing import LabelEncoder\n",
    "\n",
    "labels=data['v1']\n",
    "\n",
    "#convert class labels to binary values spam : 1 , ham : 0\n",
    "\n",
    "encoder=LabelEncoder()\n",
    "Y=encoder.fit_transform(labels)\n",
    "\n",
    "print(Y[:10])"
   ]
  },
  {
   "cell_type": "code",
   "execution_count": 14,
   "metadata": {},
   "outputs": [],
   "source": [
    "# collecting text messages to clear and deal with it \n",
    "\n",
    "text_messages=data['v2']"
   ]
  },
  {
   "cell_type": "code",
   "execution_count": 15,
   "metadata": {},
   "outputs": [],
   "source": [
    "# clear text data using reguler expressions\n",
    "\n",
    "# Replace email addresses with 'email'\n",
    "processed = text_messages.str.replace(r'^.+@[^\\.].*\\.[a-z]{2,}$',\n",
    "                                 'emailaddress')\n",
    "\n",
    "# Replace URLs with 'webaddress'\n",
    "processed = processed.str.replace(r'^http\\://[a-zA-Z0-9\\-\\.]+\\.[a-zA-Z]{2,3}(/\\S*)?$',\n",
    "                                  'webaddress')\n",
    "\n",
    "# Replace money symbols with 'moneysymb' (£ can by typed with ALT key + 156)\n",
    "processed = processed.str.replace(r'£|\\$', 'moneysymb')\n",
    "    \n",
    "# Replace 10 digit phone numbers (formats include paranthesis, spaces, no spaces, dashes) with 'phonenumber'\n",
    "processed = processed.str.replace(r'^\\(?[\\d]{3}\\)?[\\s-]?[\\d]{3}[\\s-]?[\\d]{4}$',\n",
    "                                  'phonenumbr')\n",
    "    \n",
    "# Replace numbers with 'numbr'\n",
    "processed = processed.str.replace(r'\\d+(\\.\\d+)?', 'numbr')"
   ]
  },
  {
   "cell_type": "code",
   "execution_count": 16,
   "metadata": {},
   "outputs": [],
   "source": [
    "# Remove punctuation\n",
    "processed = processed.str.replace(r'[^\\w\\d\\s]', ' ')\n",
    "\n",
    "# Replace whitespace between terms with a single space\n",
    "processed = processed.str.replace(r'\\s+', ' ')\n",
    "\n",
    "# Remove leading and trailing whitespace\n",
    "processed = processed.str.replace(r'^\\s+|\\s+?$', '')"
   ]
  },
  {
   "cell_type": "code",
   "execution_count": 17,
   "metadata": {},
   "outputs": [
    {
     "data": {
      "text/plain": [
       "0    go until jurong point crazy available only in ...\n",
       "1                              ok lar joking wif u oni\n",
       "2    free entry in numbr a wkly comp to win fa cup ...\n",
       "3          u dun say so early hor u c already then say\n",
       "4    nah i don t think he goes to usf he lives arou...\n",
       "Name: v2, dtype: object"
      ]
     },
     "execution_count": 17,
     "metadata": {},
     "output_type": "execute_result"
    }
   ],
   "source": [
    "# change capital words  to lower case \n",
    "\n",
    "processed=processed.str.lower()\n",
    "processed.head()"
   ]
  },
  {
   "cell_type": "code",
   "execution_count": null,
   "metadata": {},
   "outputs": [],
   "source": [
    "# use NLP toolkit \"NLTK\"\n",
    "\n",
    "import nltk\n",
    "nltk.download('stopwords')"
   ]
  },
  {
   "cell_type": "code",
   "execution_count": 19,
   "metadata": {},
   "outputs": [],
   "source": [
    "# Cleaning data from stop words\n",
    "\n",
    "from nltk.corpus import stopwords\n",
    "from sklearn.feature_extraction.text import TfidfVectorizer\n",
    "from sklearn.feature_extraction.text import CountVectorizer\n",
    "\n",
    "#if true it will download all the stopwords\n",
    "if False:\n",
    "    nltk.download('stopwords')\n",
    "\n",
    "#if true will create vectorizer without any stopwords\n",
    "if False:\n",
    "    vectorizer = TfidfVectorizer()\n",
    "\n",
    "#if true will create vectorizer with stopwords\n",
    "if True:\n",
    "    stopset = set(stopwords.words(\"english\"))\n",
    "    vectorizer = TfidfVectorizer(stop_words=stopset,binary=True)"
   ]
  },
  {
   "cell_type": "code",
   "execution_count": 20,
   "metadata": {},
   "outputs": [],
   "source": [
    "# Extract feature column 'Text'\n",
    "X=vectorizer.fit_transform(processed)\n",
    "# Extract target column 'label'\n",
    "y=data['v1']"
   ]
  },
  {
   "cell_type": "code",
   "execution_count": null,
   "metadata": {},
   "outputs": [],
   "source": []
  },
  {
   "cell_type": "markdown",
   "metadata": {},
   "source": [
    "## 3- Prediction"
   ]
  },
  {
   "cell_type": "code",
   "execution_count": 21,
   "metadata": {},
   "outputs": [],
   "source": [
    "# split data \n",
    "from sklearn.model_selection import train_test_split\n",
    "X_train,X_test,y_train,y_test=train_test_split(X,y,test_size=0.25,random_state=42)"
   ]
  },
  {
   "cell_type": "code",
   "execution_count": 22,
   "metadata": {},
   "outputs": [
    {
     "name": "stdout",
     "output_type": "stream",
     "text": [
      "4179\n",
      "1393\n"
     ]
    }
   ],
   "source": [
    "print(X_train.shape[0])\n",
    "print(y_test.shape[0])"
   ]
  },
  {
   "cell_type": "code",
   "execution_count": 33,
   "metadata": {},
   "outputs": [],
   "source": [
    "# use models  form sklearn to predict\n",
    "\n",
    "from sklearn.tree import DecisionTreeClassifier\n",
    "from sklearn.linear_model import LogisticRegression\n",
    "from sklearn.naive_bayes import MultinomialNB\n",
    "from sklearn.svm import SVC\n",
    "from sklearn.neighbors import KNeighborsClassifier\n",
    "from sklearn.metrics import f1_score\n",
    "from sklearn.model_selection import learning_curve,validation_curve\n",
    "from sklearn.model_selection import cross_val_score\n",
    "from sklearn.metrics import roc_auc_score\n",
    "\n",
    "objects=( 'DTs', 'LOgisticRegression','Multi-NB', 'SVM','KNN')"
   ]
  },
  {
   "cell_type": "code",
   "execution_count": 34,
   "metadata": {},
   "outputs": [],
   "source": [
    "# Training and predicting \n",
    "\n",
    "# function to train model\n",
    "def train_classifier(clf, X_train, y_train):    \n",
    "    clf.fit(X_train, y_train)\n",
    "    \n",
    "# function to predict features \n",
    "def predict_labels(clf, features):\n",
    "    return (clf.predict(features))"
   ]
  },
  {
   "cell_type": "code",
   "execution_count": 35,
   "metadata": {},
   "outputs": [
    {
     "name": "stdout",
     "output_type": "stream",
     "text": [
      "DecisionTree : [0.97013142 0.97966507 0.98086124 0.96646707 0.96886228]\n",
      "LogisticRegression : [0.96415771 0.96889952 0.95933014 0.95329341 0.95808383]\n",
      "NaiveBayse : [0.96774194 0.96650718 0.95813397 0.96287425 0.96047904]\n"
     ]
    },
    {
     "name": "stderr",
     "output_type": "stream",
     "text": [
      "/home/bahaa/.local/lib/python3.6/site-packages/sklearn/linear_model/logistic.py:432: FutureWarning: Default solver will be changed to 'lbfgs' in 0.22. Specify a solver to silence this warning.\n",
      "  FutureWarning)\n"
     ]
    },
    {
     "name": "stdout",
     "output_type": "stream",
     "text": [
      "SVC : [0.98446834 0.98684211 0.98086124 0.98443114 0.97724551]\n",
      "KNN : [0.95937873 0.94736842 0.93899522 0.95449102 0.95329341]\n"
     ]
    }
   ],
   "source": [
    "# initialize Classifiers\n",
    "DecisionTree = DecisionTreeClassifier(random_state=42)\n",
    "LogisticRegression= LogisticRegression()\n",
    "NaiveBayse = MultinomialNB(alpha=1.0,fit_prior=True)\n",
    "SVC = SVC(kernel = 'linear')\n",
    "KNeighborsClassifier=KNeighborsClassifier(n_neighbors=100)\n",
    "\n",
    "\n",
    "clf = [DecisionTree,LogisticRegression,NaiveBayse,SVC,KNeighborsClassifier]\n",
    "names =['DecisionTree','LogisticRegression','NaiveBayse','SVC','KNN']\n",
    "scores=[]\n",
    "for j in range(0,5):\n",
    "    scores.append(cross_val_score(clf[j], X_train, y_train, cv=5))\n",
    "    print (\"{} : {}\".format(names[j],scores[j]))"
   ]
  },
  {
   "cell_type": "code",
   "execution_count": 36,
   "metadata": {},
   "outputs": [
    {
     "name": "stdout",
     "output_type": "stream",
     "text": [
      "DecisionTree Accuracy: 0.9157894736842104\n",
      "LogisticRegression Accuracy: 0.8134556574923548\n",
      "NaiveBayse Accuracy: 0.8605341246290802\n"
     ]
    },
    {
     "name": "stderr",
     "output_type": "stream",
     "text": [
      "/home/bahaa/.local/lib/python3.6/site-packages/sklearn/linear_model/logistic.py:432: FutureWarning: Default solver will be changed to 'lbfgs' in 0.22. Specify a solver to silence this warning.\n",
      "  FutureWarning)\n"
     ]
    },
    {
     "name": "stdout",
     "output_type": "stream",
     "text": [
      "SVC Accuracy: 0.9192200557103063\n",
      "KNN Accuracy: 0.7483870967741935\n"
     ]
    }
   ],
   "source": [
    "# train & predict models and calculate the F1 Score \n",
    "pred_val = [0,0,0,0,0]\n",
    "\n",
    "for a in range(0,5):\n",
    "    train_classifier(clf[a], X_train, y_train)\n",
    "    y_pred = predict_labels(clf[a],X_test)\n",
    "    pred_val[a] = f1_score(y_test, y_pred,  average='binary') \n",
    "    print (\"{} Accuracy: {}\".format(names[a],pred_val[a]))"
   ]
  },
  {
   "cell_type": "code",
   "execution_count": 37,
   "metadata": {},
   "outputs": [
    {
     "name": "stdout",
     "output_type": "stream",
     "text": [
      "DecisionTree Accuracy: 0.9492577815333955\n",
      "LogisticRegression Accuracy: 0.8469196191339042\n",
      "NaiveBayse Accuracy: 0.879165178454757\n"
     ]
    },
    {
     "name": "stderr",
     "output_type": "stream",
     "text": [
      "/home/bahaa/.local/lib/python3.6/site-packages/sklearn/linear_model/logistic.py:432: FutureWarning: Default solver will be changed to 'lbfgs' in 0.22. Specify a solver to silence this warning.\n",
      "  FutureWarning)\n"
     ]
    },
    {
     "name": "stdout",
     "output_type": "stream",
     "text": [
      "SVC Accuracy: 0.9306892526417576\n",
      "KNN Accuracy: 0.8024170013328571\n"
     ]
    }
   ],
   "source": [
    "# Calculate ROC Score\n",
    "\n",
    "pred_val2=[0,0,0,0,0]\n",
    "\n",
    "for i in range(0,5):\n",
    "    train_classifier(clf[i], X_train, y_train)\n",
    "    y_predx=predict_labels(clf[i], X_test)\n",
    "    pred_val2[i] = roc_auc_score(y_test,y_predx)\n",
    "    print (\"{} Accuracy: {}\".format(names[i],pred_val2[i]))"
   ]
  },
  {
   "cell_type": "code",
   "execution_count": 38,
   "metadata": {},
   "outputs": [
    {
     "data": {
      "image/png": "[encoded data removed]",
      "text/plain": [
       "<Figure size 432x288 with 1 Axes>"
      ]
     },
     "metadata": {
      "needs_background": "light"
     },
     "output_type": "display_data"
    }
   ],
   "source": [
    "# ploating data for F1 Score\n",
    "y_pos = np.arange(len(objects))\n",
    "y_val = [ x for x in pred_val]\n",
    "plt.bar(y_pos,y_val, align='center', alpha=0.8)\n",
    "plt.xticks(y_pos, objects)\n",
    "plt.ylabel( 'Score')\n",
    "plt.title('F1 Score of Models')\n",
    "plt.show()"
   ]
  },
  {
   "cell_type": "code",
   "execution_count": 39,
   "metadata": {},
   "outputs": [
    {
     "data": {
      "image/png": "[encoded data removed]",
      "text/plain": [
       "<Figure size 432x288 with 1 Axes>"
      ]
     },
     "metadata": {
      "needs_background": "light"
     },
     "output_type": "display_data"
    }
   ],
   "source": [
    "# ploating data for ROC score \n",
    "y_pos2=np.arange(len(objects))\n",
    "y_val2=[i for i in pred_val2]\n",
    "plt.bar(y_pos2,y_val2,align='center',alpha=0.8)\n",
    "plt.xticks(y_pos2,objects)\n",
    "plt.ylabel('Score')\n",
    "plt.title('ROC Score of Models ')\n",
    "plt.show()"
   ]
  },
  {
   "cell_type": "code",
   "execution_count": 40,
   "metadata": {},
   "outputs": [
    {
     "data": {
      "image/png": "[encoded data removed]",
      "text/plain": [
       "<Figure size 432x288 with 1 Axes>"
      ]
     },
     "metadata": {
      "needs_background": "light"
     },
     "output_type": "display_data"
    }
   ],
   "source": [
    "# ploating data for Accuracy Score\n",
    "# ploating data for Accuracy of Models between 1.00 - 0.90 for better visualization\n",
    "objects = ('','Untunded', 'Tuned','')\n",
    "y_pos = np.arange(4)\n",
    "y_val = [0,0.03470790378,0.037062937063,0 ]\n",
    "plt.bar(y_pos,y_val, align='center',width = 0.5, alpha=0.6)\n",
    "plt.xticks(y_pos, objects)\n",
    "plt.ylabel('Accuracy Score')\n",
    "plt.title('Accuracy of Naive Bayes')\n",
    "plt.show()"
   ]
  },
  {
   "cell_type": "code",
   "execution_count": 43,
   "metadata": {},
   "outputs": [
    {
     "data": {
      "text/plain": [
       "<matplotlib.axes._subplots.AxesSubplot at 0x7f8be3014400>"
      ]
     },
     "execution_count": 43,
     "metadata": {},
     "output_type": "execute_result"
    },
    {
     "data": {
      "image/png": "[encoded data removed]",
      "text/plain": [
       "<Figure size 432x288 with 2 Axes>"
      ]
     },
     "metadata": {
      "needs_background": "light"
     },
     "output_type": "display_data"
    }
   ],
   "source": [
    "from sklearn.metrics import confusion_matrix\n",
    "import seaborn as sns\n",
    "%matplotlib inline\n",
    "best_clf=NaiveBayse\n",
    "pred = best_clf.predict(X_test)\n",
    "sns.heatmap(confusion_matrix(y_test, pred), annot = True, fmt = '')"
   ]
  },
  {
   "cell_type": "markdown",
   "metadata": {},
   "source": [
    "## Thanks"
   ]
  },
  {
   "cell_type": "code",
   "execution_count": null,
   "metadata": {},
   "outputs": [],
   "source": []
  }
 ],
 "metadata": {
  "kernelspec": {
   "display_name": "Python 3",
   "language": "python",
   "name": "python3"
  },
  "language_info": {
   "codemirror_mode": {
    "name": "ipython",
    "version": 3
   },
   "file_extension": ".py",
   "mimetype": "text/x-python",
   "name": "python",
   "nbconvert_exporter": "python",
   "pygments_lexer": "ipython3",
   "version": "3.6.9"
  }
 },
 "nbformat": 4,
 "nbformat_minor": 2
}
